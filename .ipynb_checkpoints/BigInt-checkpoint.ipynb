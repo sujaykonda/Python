{
 "cells": [
  {
   "cell_type": "code",
   "execution_count": 5,
   "metadata": {},
   "outputs": [],
   "source": [
    "import math\n",
    "def multiply(x,y):\n",
    "    answer = \"0\"\n",
    "    for k in range(len(x)):\n",
    "        i= x[::-1][k]\n",
    "        digitans = \"\"\n",
    "        carryover = 0;\n",
    "        for l in range(len(y)):\n",
    "            j=y[::-1][l]\n",
    "            d = int(i)*int(j)+carryover;\n",
    "            carryover = 0\n",
    "            if d >= 10:\n",
    "                carryover = math.floor(d/10)\n",
    "            d = d - carryover*10\n",
    "            digitans = str(d) + digitans\n",
    "        for i in range(k):\n",
    "            digitans = digitans + \"0\";\n",
    "        if(carryover>0):\n",
    "            digitans = str(carryover) + digitans\n",
    "        \n",
    "        answer = add(digitans, answer)\n",
    "    return(answer)\n",
    "        \n",
    "        \n",
    "def add(x,y):\n",
    "    answer = \"\"\n",
    "    if (len(x)<len(y)):\n",
    "        carryover = 0\n",
    "        for i in range(len(x)):\n",
    "            j = x[::-1][i]\n",
    "            k = y[::-1][i]\n",
    "            d = int(j)+int(k)+carryover \n",
    "            carryover = 0\n",
    "            if(d >= 10):\n",
    "                carryover = 1\n",
    "                d = d - 10\n",
    "            answer = str(d) + answer \n",
    "        for i in range(len(x), len(y)):\n",
    "            j = int(y[::-1][i]) + carryover \n",
    "            carryover = 0\n",
    "            if (j >= 10):\n",
    "                carryover = 1;\n",
    "                j-=10\n",
    "            answer =  str(j) + answer\n",
    "        if(carryover == 1):\n",
    "            answer = \"1\" + answer\n",
    "    else:\n",
    "        carryover = 0\n",
    "        for i in range(len(y)):\n",
    "            j = x[::-1][i]\n",
    "            k = y[::-1][i]\n",
    "            d = int(j)+int(k)+carryover \n",
    "            carryover = 0\n",
    "            if(d >= 10):\n",
    "                carryover = 1\n",
    "                d = d - 10\n",
    "            answer = str(d) + answer \n",
    "        for i in range(len(y), len(x)):\n",
    "            j = int(x[::-1][i]) + carryover \n",
    "            carryover = 0\n",
    "            if (j >= 10):\n",
    "                carryover = 1;\n",
    "                j-=10\n",
    "            answer =  str(j) + answer\n",
    "        if(carryover == 1):\n",
    "            answer = \"1\" + answer\n",
    "    return answer"
   ]
  },
  {
   "cell_type": "code",
   "execution_count": 6,
   "metadata": {},
   "outputs": [],
   "source": [
    "x = 19021523\n",
    "y = 10681232475468768\n"
   ]
  },
  {
   "cell_type": "code",
   "execution_count": 7,
   "metadata": {},
   "outputs": [
    {
     "data": {
      "text/plain": [
       "'203173309200476106293664'"
      ]
     },
     "execution_count": 7,
     "metadata": {},
     "output_type": "execute_result"
    }
   ],
   "source": [
    "multiply(str(x), str(y))"
   ]
  },
  {
   "cell_type": "code",
   "execution_count": 8,
   "metadata": {},
   "outputs": [
    {
     "data": {
      "text/plain": [
       "203173309200476106293664"
      ]
     },
     "execution_count": 8,
     "metadata": {},
     "output_type": "execute_result"
    }
   ],
   "source": [
    "x*y"
   ]
  },
  {
   "cell_type": "code",
   "execution_count": 9,
   "metadata": {},
   "outputs": [
    {
     "ename": "KeyboardInterrupt",
     "evalue": "",
     "output_type": "error",
     "traceback": [
      "\u001b[1;31m---------------------------------------------------------------------------\u001b[0m",
      "\u001b[1;31mKeyboardInterrupt\u001b[0m                         Traceback (most recent call last)",
      "\u001b[1;32m<ipython-input-9-f2d3cd585f5e>\u001b[0m in \u001b[0;36m<module>\u001b[1;34m\u001b[0m\n\u001b[0;32m      1\u001b[0m \u001b[0mt\u001b[0m \u001b[1;33m=\u001b[0m \u001b[1;34m\"1\"\u001b[0m\u001b[1;33m\u001b[0m\u001b[1;33m\u001b[0m\u001b[0m\n\u001b[0;32m      2\u001b[0m \u001b[1;32mfor\u001b[0m \u001b[0mi\u001b[0m \u001b[1;32min\u001b[0m \u001b[0mrange\u001b[0m\u001b[1;33m(\u001b[0m\u001b[1;36m1\u001b[0m\u001b[1;33m,\u001b[0m\u001b[1;36m1001\u001b[0m\u001b[1;33m)\u001b[0m\u001b[1;33m:\u001b[0m\u001b[1;33m\u001b[0m\u001b[1;33m\u001b[0m\u001b[0m\n\u001b[1;32m----> 3\u001b[1;33m     \u001b[0mt\u001b[0m \u001b[1;33m=\u001b[0m \u001b[0mmultiply\u001b[0m\u001b[1;33m(\u001b[0m\u001b[0mt\u001b[0m\u001b[1;33m,\u001b[0m\u001b[0mstr\u001b[0m\u001b[1;33m(\u001b[0m\u001b[0mi\u001b[0m\u001b[1;33m)\u001b[0m\u001b[1;33m)\u001b[0m\u001b[1;33m\u001b[0m\u001b[1;33m\u001b[0m\u001b[0m\n\u001b[0m\u001b[0;32m      4\u001b[0m \u001b[0mprint\u001b[0m \u001b[1;33m(\u001b[0m\u001b[0mt\u001b[0m\u001b[1;33m)\u001b[0m\u001b[1;33m\u001b[0m\u001b[1;33m\u001b[0m\u001b[0m\n\u001b[0;32m      5\u001b[0m \u001b[0mcounter\u001b[0m \u001b[1;33m=\u001b[0m \u001b[1;36m0\u001b[0m\u001b[1;33m\u001b[0m\u001b[1;33m\u001b[0m\u001b[0m\n",
      "\u001b[1;32m<ipython-input-5-d1c78b69b1e8>\u001b[0m in \u001b[0;36mmultiply\u001b[1;34m(x, y)\u001b[0m\n\u001b[0;32m     19\u001b[0m             \u001b[0mdigitans\u001b[0m \u001b[1;33m=\u001b[0m \u001b[0mstr\u001b[0m\u001b[1;33m(\u001b[0m\u001b[0mcarryover\u001b[0m\u001b[1;33m)\u001b[0m \u001b[1;33m+\u001b[0m \u001b[0mdigitans\u001b[0m\u001b[1;33m\u001b[0m\u001b[1;33m\u001b[0m\u001b[0m\n\u001b[0;32m     20\u001b[0m \u001b[1;33m\u001b[0m\u001b[0m\n\u001b[1;32m---> 21\u001b[1;33m         \u001b[0manswer\u001b[0m \u001b[1;33m=\u001b[0m \u001b[0madd\u001b[0m\u001b[1;33m(\u001b[0m\u001b[0mdigitans\u001b[0m\u001b[1;33m,\u001b[0m \u001b[0manswer\u001b[0m\u001b[1;33m)\u001b[0m\u001b[1;33m\u001b[0m\u001b[1;33m\u001b[0m\u001b[0m\n\u001b[0m\u001b[0;32m     22\u001b[0m     \u001b[1;32mreturn\u001b[0m\u001b[1;33m(\u001b[0m\u001b[0manswer\u001b[0m\u001b[1;33m)\u001b[0m\u001b[1;33m\u001b[0m\u001b[1;33m\u001b[0m\u001b[0m\n\u001b[0;32m     23\u001b[0m \u001b[1;33m\u001b[0m\u001b[0m\n",
      "\u001b[1;32m<ipython-input-5-d1c78b69b1e8>\u001b[0m in \u001b[0;36madd\u001b[1;34m(x, y)\u001b[0m\n\u001b[0;32m     49\u001b[0m         \u001b[1;32mfor\u001b[0m \u001b[0mi\u001b[0m \u001b[1;32min\u001b[0m \u001b[0mrange\u001b[0m\u001b[1;33m(\u001b[0m\u001b[0mlen\u001b[0m\u001b[1;33m(\u001b[0m\u001b[0my\u001b[0m\u001b[1;33m)\u001b[0m\u001b[1;33m)\u001b[0m\u001b[1;33m:\u001b[0m\u001b[1;33m\u001b[0m\u001b[1;33m\u001b[0m\u001b[0m\n\u001b[0;32m     50\u001b[0m             \u001b[0mj\u001b[0m \u001b[1;33m=\u001b[0m \u001b[0mx\u001b[0m\u001b[1;33m[\u001b[0m\u001b[1;33m:\u001b[0m\u001b[1;33m:\u001b[0m\u001b[1;33m-\u001b[0m\u001b[1;36m1\u001b[0m\u001b[1;33m]\u001b[0m\u001b[1;33m[\u001b[0m\u001b[0mi\u001b[0m\u001b[1;33m]\u001b[0m\u001b[1;33m\u001b[0m\u001b[1;33m\u001b[0m\u001b[0m\n\u001b[1;32m---> 51\u001b[1;33m             \u001b[0mk\u001b[0m \u001b[1;33m=\u001b[0m \u001b[0my\u001b[0m\u001b[1;33m[\u001b[0m\u001b[1;33m:\u001b[0m\u001b[1;33m:\u001b[0m\u001b[1;33m-\u001b[0m\u001b[1;36m1\u001b[0m\u001b[1;33m]\u001b[0m\u001b[1;33m[\u001b[0m\u001b[0mi\u001b[0m\u001b[1;33m]\u001b[0m\u001b[1;33m\u001b[0m\u001b[1;33m\u001b[0m\u001b[0m\n\u001b[0m\u001b[0;32m     52\u001b[0m             \u001b[0md\u001b[0m \u001b[1;33m=\u001b[0m \u001b[0mint\u001b[0m\u001b[1;33m(\u001b[0m\u001b[0mj\u001b[0m\u001b[1;33m)\u001b[0m\u001b[1;33m+\u001b[0m\u001b[0mint\u001b[0m\u001b[1;33m(\u001b[0m\u001b[0mk\u001b[0m\u001b[1;33m)\u001b[0m\u001b[1;33m+\u001b[0m\u001b[0mcarryover\u001b[0m\u001b[1;33m\u001b[0m\u001b[1;33m\u001b[0m\u001b[0m\n\u001b[0;32m     53\u001b[0m             \u001b[0mcarryover\u001b[0m \u001b[1;33m=\u001b[0m \u001b[1;36m0\u001b[0m\u001b[1;33m\u001b[0m\u001b[1;33m\u001b[0m\u001b[0m\n",
      "\u001b[1;31mKeyboardInterrupt\u001b[0m: "
     ]
    }
   ],
   "source": [
    "t = \"1\"\n",
    "for i in range(1,1001):\n",
    "    t = multiply(t,str(i))\n",
    "print (t)\n",
    "counter = 0\n",
    "for i in t[::-1]:\n",
    "    if(i == \"0\"):\n",
    "        counter = counter + 1\n",
    "    else:\n",
    "        break\n",
    "print(counter)"
   ]
  },
  {
   "cell_type": "code",
   "execution_count": null,
   "metadata": {},
   "outputs": [],
   "source": [
    "import sys"
   ]
  },
  {
   "cell_type": "code",
   "execution_count": null,
   "metadata": {},
   "outputs": [],
   "source": [
    "sys.maxsize"
   ]
  },
  {
   "cell_type": "code",
   "execution_count": 10,
   "metadata": {},
   "outputs": [],
   "source": [
    "class BigInt:\n",
    "    def __init__(self, arr, logbase):\n",
    "        self.arr = arr\n",
    "        self.logbase = logbase\n",
    "        for i in range(len(arr)):\n",
    "            if(self.arr[::-1][i] >= 10**self.logbase):\n",
    "                raise ValueError(\"Digit \" + str(i) + \" is greater than or equal to the base\")\n",
    "    def __str__(self):\n",
    "        string = \"\"\n",
    "        for i in range(len(self.arr)):\n",
    "            digit = self.arr[i]\n",
    "            \n",
    "            for j in range(len(string),self.logbase*i):\n",
    "                string = \"0\" + string\n",
    "            string = str(digit) + string\n",
    "        return(string)\n",
    "    def __add__(self,other):\n",
    "        answer = []\n",
    "        x = self.arr\n",
    "        y = other.arr\n",
    "        if (len(x)<len(y)):\n",
    "            carryover = 0\n",
    "            for i in range(len(x)):\n",
    "                j = x[i]\n",
    "                k = y[i]\n",
    "                d = int(j)+int(k)+carryover \n",
    "                carryover = 0\n",
    "                if(d >= 10**self.logbase):\n",
    "                    carryover = 1\n",
    "                    d = d - 10**self.logbase\n",
    "                answer.append(d) \n",
    "            for i in range(len(x), len(y)):\n",
    "                j = int(y[i]) + carryover \n",
    "                carryover = 0\n",
    "                if (j >= 10**self.logbase):\n",
    "                    carryover = 1;\n",
    "                    j-=10**self.logbase\n",
    "                answer.append(j)\n",
    "            if(carryover == 1):\n",
    "                answer.append(1)\n",
    "        else:\n",
    "            carryover = 0\n",
    "            for i in range(len(y)):\n",
    "                j = x[i]\n",
    "                k = y[i]\n",
    "                d = int(j)+int(k)+carryover \n",
    "                carryover = 0\n",
    "                if(d >= 10**self.logbase):\n",
    "                    carryover = 1\n",
    "                    d = d - 10**self.logbase\n",
    "                answer.append(d)\n",
    "            for i in range(len(y), len(x)):\n",
    "                j = int(x[i]) + carryover \n",
    "                carryover = 0\n",
    "                if (j >= 10**self.logbase):\n",
    "                    carryover = 1;\n",
    "                    j-=10**self.logbase\n",
    "                answer.append(j)\n",
    "            if(carryover == 1):\n",
    "                answer.append(1)\n",
    "        return BigInt(answer,self.logbase)\n",
    "    def __mul__(self, other):\n",
    "        x = self.arr\n",
    "        y = other.arr\n",
    "        answer = BigInt([0], self.logbase)\n",
    "        for k in range(len(x)):\n",
    "            i= x[k]\n",
    "            digitans = []\n",
    "            carryover = 0;\n",
    "            for l in range(len(y)):\n",
    "                j=y[l]\n",
    "                d = int(i)*int(j)+carryover;\n",
    "                carryover = 0\n",
    "                if d >= 10**self.logbase:\n",
    "                    carryover = math.floor(d/(10**self.logbase))\n",
    "                d = d - carryover*(10**self.logbase)\n",
    "                digitans.append(d) \n",
    "            for i in range(k):\n",
    "                digitans.insert(0,0) \n",
    "            if(carryover>0):\n",
    "                digitans.append(carryover) \n",
    "            \n",
    "\n",
    "            answer = BigInt(digitans, self.logbase) + answer\n",
    "            \n",
    "        return(answer)\n",
    "    def numToBig(num,logbase):\n",
    "        x = num\n",
    "        arr = []\n",
    "        while (x>0):\n",
    "            y = x%(10**logbase)\n",
    "            x= (x-y)/(10**logbase)\n",
    "            arr.append(y)\n",
    "        return(BigInt(arr,logbase))\n",
    "    "
   ]
  },
  {
   "cell_type": "code",
   "execution_count": 11,
   "metadata": {},
   "outputs": [],
   "source": [
    "bigInt = BigInt([100,999], 3)"
   ]
  },
  {
   "cell_type": "code",
   "execution_count": 12,
   "metadata": {},
   "outputs": [],
   "source": [
    "bigint = BigInt([100,999], 3)"
   ]
  },
  {
   "cell_type": "code",
   "execution_count": 13,
   "metadata": {},
   "outputs": [
    {
     "data": {
      "text/plain": [
       "'998200810000'"
      ]
     },
     "execution_count": 13,
     "metadata": {},
     "output_type": "execute_result"
    }
   ],
   "source": [
    "str(bigInt*bigint)"
   ]
  },
  {
   "cell_type": "code",
   "execution_count": 14,
   "metadata": {},
   "outputs": [],
   "source": [
    "import time\n",
    "\n",
    "class Timer:    \n",
    "    def __enter__(self):\n",
    "        self.start = time.process_time()\n",
    "        return self\n",
    "\n",
    "    def __exit__(self, *args):\n",
    "        self.end = time.process_time()\n",
    "        self.interval = self.end - self.start\n"
   ]
  },
  {
   "cell_type": "code",
   "execution_count": 45,
   "metadata": {},
   "outputs": [
    {
     "name": "stdout",
     "output_type": "stream",
     "text": [
      "93326215443944152681699238856266700490715968264381621468592963895217599993229915608941463976156518286253697920827223758251185210916864000000000000000000000000\n",
      "24\n",
      "Request took 0.016 sec.\n"
     ]
    }
   ],
   "source": [
    "with Timer() as ti:\n",
    "    b = 20\n",
    "    t = BigInt([1],b)\n",
    "    for i in range(1,101):\n",
    "        t = t*BigInt.numToBig(i,b)\n",
    "    print(t)\n",
    "    counter = 0\n",
    "    for i in str(t)[::-1]:\n",
    "        if(i == \"0\"):\n",
    "            counter = counter + 1\n",
    "        else:\n",
    "            break\n",
    "    print(counter)\n",
    "print('Request took %.03f sec.' % ti.interval)\n"
   ]
  },
  {
   "cell_type": "code",
   "execution_count": 22,
   "metadata": {},
   "outputs": [
    {
     "data": {
      "text/plain": [
       "2745"
      ]
     },
     "execution_count": 22,
     "metadata": {},
     "output_type": "execute_result"
    }
   ],
   "source": [
    "i"
   ]
  },
  {
   "cell_type": "code",
   "execution_count": null,
   "metadata": {},
   "outputs": [],
   "source": []
  },
  {
   "cell_type": "code",
   "execution_count": null,
   "metadata": {},
   "outputs": [],
   "source": []
  }
 ],
 "metadata": {
  "kernelspec": {
   "display_name": "Python 3",
   "language": "python",
   "name": "python3"
  }
 },
 "nbformat": 4,
 "nbformat_minor": 2
}
