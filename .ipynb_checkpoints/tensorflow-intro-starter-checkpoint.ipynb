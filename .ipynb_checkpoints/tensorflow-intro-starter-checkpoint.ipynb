{
 "cells": [
  {
   "cell_type": "markdown",
   "metadata": {
    "collapsed": true
   },
   "source": [
    "Intro to Tensorflow\n",
    "---\n",
    "\n",
    "Import tensorflow and other needed libraries here:"
   ]
  },
  {
   "cell_type": "code",
   "execution_count": 2,
   "metadata": {},
   "outputs": [],
   "source": [
    "# TODO: Add imports.\n",
    "import tensorflow as tf\n",
    "import matplotlib.pyplot as plt \n",
    "%matplotlib inline"
   ]
  },
  {
   "cell_type": "markdown",
   "metadata": {},
   "source": [
    "Clear the Graph\n",
    "---\n",
    "Clear the default graph to reset everything back to default"
   ]
  },
  {
   "cell_type": "code",
   "execution_count": 3,
   "metadata": {},
   "outputs": [],
   "source": [
    "# TODO: Clear the tensorflow graph\n",
    "tf.reset_default_graph() "
   ]
  },
  {
   "cell_type": "markdown",
   "metadata": {},
   "source": [
    "Set up Placeholders\n",
    "---\n",
    "Placeholders are places you can feed data into your model. They indicate a value that you'll feed in later when the network is run."
   ]
  },
  {
   "cell_type": "code",
   "execution_count": 26,
   "metadata": {},
   "outputs": [],
   "source": [
    "# TODO: Create placeholders\n",
    "input_data = tf.placeholder(dtype=tf.float32, shape=None)\n",
    "output_data = tf.placeholder(dtype=tf.float32, shape=None)"
   ]
  },
  {
   "cell_type": "markdown",
   "metadata": {},
   "source": [
    "Variables\n",
    "---\n",
    "Variables keep their value between runs. These are the building blocks of machine learning, and represent the parameters that will be tuned as your model trains"
   ]
  },
  {
   "cell_type": "code",
   "execution_count": 29,
   "metadata": {},
   "outputs": [],
   "source": [
    "# TODO: Create variables\n",
    "a= tf.Variable(1, dtype=tf.float32) \n",
    "c= tf.Variable(1, dtype=tf.float32)\n",
    "b = tf.Variable(1, dtype = tf.float32)\n",
    "model_operation = a * input_data**2 +b*input_data + c \n",
    "error = model_operation - output_data \n",
    "squared_error = tf.square(error)\n",
    "loss = tf.reduce_mean(squared_error)\n",
    "optimizer = tf.train.GradientDescentOptimizer(learning_rate=0.0005) \n",
    "train = optimizer.minimize(loss) "
   ]
  },
  {
   "cell_type": "markdown",
   "metadata": {},
   "source": [
    "Running a Session\n",
    "---\n",
    "Once your graph is built, you can start a session. Putting the session in a `with` statement allows the session to automatically close once the statement finishes:\n",
    "```\n",
    "with tf.Session() as sess:\n",
    "    # Run the session in here\n",
    "    ...\n",
    "# Session closes when you get here\n",
    "```"
   ]
  },
  {
   "cell_type": "code",
   "execution_count": 30,
   "metadata": {},
   "outputs": [
    {
     "name": "stdout",
     "output_type": "stream",
     "text": [
      "[0.92399997, 0.984, 0.996]\n",
      "[0.79963887, 0.8436182, 0.90243244]\n",
      "[0.8221567, 0.7440707, 0.8238338]\n",
      "[0.84230274, 0.65506536, 0.7532424]\n",
      "[0.86032486, 0.57549894, 0.6898249]\n",
      "[0.8764451, 0.50438446, 0.6328344]\n",
      "[0.89086235, 0.440837, 0.58160204]\n",
      "[0.90375465, 0.3840648, 0.5355295]\n",
      "[0.9152816, 0.33335838, 0.49408022]\n",
      "[0.9255859, 0.28808284, 0.45677358]\n",
      "[0.93479556, 0.24766888, 0.42317972]\n",
      "[0.94302505, 0.21160766, 0.39291325]\n",
      "[0.95037705, 0.17944269, 0.3656288]\n",
      "[0.95694333, 0.1507654, 0.3410174]\n",
      "[0.9628062, 0.12520997, 0.31880218]\n",
      "[0.96803933, 0.10244902, 0.29873505]\n",
      "[0.9727087, 0.08218882, 0.2805942]\n",
      "[0.97687346, 0.064166695, 0.2641804]\n",
      "[0.9805864, 0.04814753, 0.24931544]\n",
      "[0.98389506, 0.033920486, 0.23583987]\n",
      "0.028989092\n"
     ]
    },
    {
     "data": {
      "image/png": "[encoded data removed]",
      "text/plain": [
       "<Figure size 432x288 with 1 Axes>"
      ]
     },
     "metadata": {
      "needs_background": "light"
     },
     "output_type": "display_data"
    }
   ],
   "source": [
    "# TODO: Run a session\n",
    "# TODO: Run a session\n",
    "\n",
    "init = tf.global_variables_initializer()\n",
    "\n",
    "x_values = [0, 1, 2, 3, 4,5,6]\n",
    "y_values = [0, 1, 4, 9, 16,25,36]\n",
    "\n",
    "with tf.Session() as sess:\n",
    "    sess.run(init)\n",
    "    for i in range(2000):\n",
    "        sess.run(train, feed_dict={input_data:x_values, output_data:y_values})\n",
    "        if i % 100 == 0:\n",
    "            print(sess.run([a, b, c]))\n",
    "            plt.plot(x_values, sess.run(model_operation, feed_dict={input_data:x_values}))\n",
    "    \n",
    "    print(sess.run(loss, feed_dict={input_data:x_values, output_data:y_values}))\n",
    "    plt.plot(x_values, y_values, 'ro', 'Training Data')\n",
    "    plt.plot(x_values, sess.run(model_operation, feed_dict={input_data:x_values}))\n",
    "    \n",
    "    plt.show()"
   ]
  },
  {
   "cell_type": "markdown",
   "metadata": {},
   "source": [
    "Neurons and Neural Networks\n",
    "---\n",
    "Tensorflow provides functions to easily create layers of neurons for a neural network."
   ]
  },
  {
   "cell_type": "code",
   "execution_count": null,
   "metadata": {},
   "outputs": [],
   "source": []
  }
 ],
 "metadata": {
  "kernelspec": {
   "display_name": "Python 3",
   "language": "python",
   "name": "python3"
  },
  "language_info": {
   "codemirror_mode": {
    "name": "ipython",
    "version": 3
   },
   "file_extension": ".py",
   "mimetype": "text/x-python",
   "name": "python",
   "nbconvert_exporter": "python",
   "pygments_lexer": "ipython3",
   "version": "3.6.8"
  }
 },
 "nbformat": 4,
 "nbformat_minor": 1
}
