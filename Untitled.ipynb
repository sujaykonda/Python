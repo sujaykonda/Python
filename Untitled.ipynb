{
 "cells": [
  {
   "cell_type": "code",
   "execution_count": 15,
   "metadata": {},
   "outputs": [
    {
     "name": "stdout",
     "output_type": "stream",
     "text": [
      "[[2, 3], [1]]\n"
     ]
    },
    {
     "data": {
      "text/plain": [
       "[1, 2, 3]"
      ]
     },
     "execution_count": 15,
     "metadata": {},
     "output_type": "execute_result"
    }
   ],
   "source": [
    "import math\n",
    "def sort(l):\n",
    "    x = l\n",
    "    r = []\n",
    "    for i in range(math.floor(len(x)/2)):\n",
    "        r.append(subsort(x[2*i],x[2*i+1]))\n",
    "    if (len(x)%2==1):\n",
    "        r.append(x[len(x)-1])\n",
    "    if(len(r) == 1):\n",
    "        return(r[0])\n",
    "    else:\n",
    "        print(r)\n",
    "        return(sort(r))\n",
    "def subsort(x,y):\n",
    "    r = []\n",
    "    xl = x\n",
    "    yl = y\n",
    "    while (len(xl)>0 and len(yl)>0):\n",
    "        if(xl[0]<yl[0]):\n",
    "            r.append(xl[0])\n",
    "            del xl[0]\n",
    "        else:\n",
    "            r.append(yl[0])\n",
    "            del yl[0]\n",
    "    r += xl + yl\n",
    "    return(r)\n",
    "sort([[3],[2],[1]])"
   ]
  },
  {
   "cell_type": "code",
   "execution_count": null,
   "metadata": {},
   "outputs": [],
   "source": []
  }
 ],
 "metadata": {
  "kernelspec": {
   "display_name": "Python 3",
   "language": "python",
   "name": "python3"
  },
  "language_info": {
   "codemirror_mode": {
    "name": "ipython",
    "version": 3
   },
   "file_extension": ".py",
   "mimetype": "text/x-python",
   "name": "python",
   "nbconvert_exporter": "python",
   "pygments_lexer": "ipython3",
   "version": "3.7.3"
  }
 },
 "nbformat": 4,
 "nbformat_minor": 2
}
