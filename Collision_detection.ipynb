{
 "cells": [
  {
   "cell_type": "code",
   "execution_count": 1,
   "metadata": {},
   "outputs": [
    {
     "name": "stdout",
     "output_type": "stream",
     "text": [
      "Next Place:h\n"
     ]
    }
   ],
   "source": [
    "def collision_detection(obj1, obj2):\n",
    "    num_outside_points = 0\n",
    "    for i in range(len(obj1)):\n",
    "        for j in reversed(range(len(obj2))):\n",
    "            obj2point = obj2[j] - obj1[i]\n",
    "            obj2next_point = obj2[(j+1) % len(obj2)] - obj1[i]\n",
    "            if (obj2point[0] * obj2next_point[1] - obj2point[1] * obj2next_point[0] < 0):\n",
    "                num_outside_points += 1\n",
    "                break\n",
    "    \n",
    "    if(0<num_outside_points and num_outside_points<len(obj1)):\n",
    "        return \"Partly In\"\n",
    "    if(num_outside_points == 0):\n",
    "        return \"Completly Inside\"\n",
    "    if(num_outside_points==len(obj1)):\n",
    "        return \"Completly Outside\"\n",
    "    "
   ]
  },
  {
   "cell_type": "code",
   "execution_count": 2,
   "metadata": {},
   "outputs": [
    {
     "data": {
      "text/plain": [
       "'h'"
      ]
     },
     "execution_count": 2,
     "metadata": {},
     "output_type": "execute_result"
    }
   ],
   "source": []
  },
  {
   "cell_type": "code",
   "execution_count": null,
   "metadata": {},
   "outputs": [],
   "source": []
  }
 ],
 "metadata": {
  "kernelspec": {
   "display_name": "Python 3",
   "language": "python",
   "name": "python3"
  },
  "language_info": {
   "codemirror_mode": {
    "name": "ipython",
    "version": 3
   },
   "file_extension": ".py",
   "mimetype": "text/x-python",
   "name": "python",
   "nbconvert_exporter": "python",
   "pygments_lexer": "ipython3",
   "version": "3.7.3"
  }
 },
 "nbformat": 4,
 "nbformat_minor": 2
}
