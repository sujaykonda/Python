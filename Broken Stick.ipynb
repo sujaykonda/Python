{
 "cells": [
  {
   "cell_type": "code",
   "execution_count": 23,
   "metadata": {},
   "outputs": [],
   "source": [
    "import random\n",
    "import math\n"
   ]
  },
  {
   "cell_type": "code",
   "execution_count": 40,
   "metadata": {},
   "outputs": [],
   "source": [
    "def sort(l):\n",
    "    x = l\n",
    "    r = []\n",
    "    for i in range(math.floor(len(x)/2)):\n",
    "        r.append(subsort(x[2*i],x[2*i+1]))\n",
    "    if (len(x)%2==1):\n",
    "        r.append(x[len(x)-1])\n",
    "    if(len(r) == 1):\n",
    "        return(r[0])\n",
    "    else:\n",
    "        return(sort(r))\n",
    "def subsort(x,y):\n",
    "    r = []\n",
    "    xl = x\n",
    "    yl = y\n",
    "    while (len(xl)>0 and len(yl)>0):\n",
    "        if(xl[0]<yl[0]):\n",
    "            r.append(xl[0])\n",
    "            del xl[0]\n",
    "        else:\n",
    "            r.append(yl[0])\n",
    "            del yl[0]\n",
    "    r += xl + yl\n",
    "    return(r)\n",
    "    \n",
    "        "
   ]
  },
  {
   "cell_type": "code",
   "execution_count": 41,
   "metadata": {},
   "outputs": [
    {
     "ename": "KeyboardInterrupt",
     "evalue": "",
     "output_type": "error",
     "traceback": [
      "\u001b[1;31m---------------------------------------------------------------------------\u001b[0m",
      "\u001b[1;31mKeyboardInterrupt\u001b[0m                         Traceback (most recent call last)",
      "\u001b[1;32m<ipython-input-41-44c65dc8b894>\u001b[0m in \u001b[0;36m<module>\u001b[1;34m\u001b[0m\n\u001b[0;32m     10\u001b[0m     \u001b[0mx\u001b[0m \u001b[1;33m=\u001b[0m \u001b[0ma\u001b[0m\u001b[1;33m\u001b[0m\u001b[1;33m\u001b[0m\u001b[0m\n\u001b[0;32m     11\u001b[0m     \u001b[0my\u001b[0m \u001b[1;33m=\u001b[0m \u001b[0mb\u001b[0m \u001b[1;33m-\u001b[0m \u001b[0ma\u001b[0m\u001b[1;33m\u001b[0m\u001b[1;33m\u001b[0m\u001b[0m\n\u001b[1;32m---> 12\u001b[1;33m     \u001b[0mz\u001b[0m \u001b[1;33m=\u001b[0m \u001b[1;36m1\u001b[0m \u001b[1;33m-\u001b[0m \u001b[0mb\u001b[0m\u001b[1;33m\u001b[0m\u001b[1;33m\u001b[0m\u001b[0m\n\u001b[0m\u001b[0;32m     13\u001b[0m     \u001b[1;32mif\u001b[0m \u001b[1;33m(\u001b[0m\u001b[0mx\u001b[0m\u001b[1;33m+\u001b[0m\u001b[0my\u001b[0m\u001b[1;33m>\u001b[0m\u001b[0mz\u001b[0m \u001b[1;32mand\u001b[0m \u001b[0mx\u001b[0m\u001b[1;33m+\u001b[0m\u001b[0mz\u001b[0m\u001b[1;33m>\u001b[0m\u001b[0my\u001b[0m \u001b[1;32mand\u001b[0m \u001b[0my\u001b[0m\u001b[1;33m+\u001b[0m\u001b[0mz\u001b[0m\u001b[1;33m>\u001b[0m\u001b[0mx\u001b[0m\u001b[1;33m)\u001b[0m\u001b[1;33m:\u001b[0m\u001b[1;33m\u001b[0m\u001b[1;33m\u001b[0m\u001b[0m\n\u001b[0;32m     14\u001b[0m         \u001b[0mta\u001b[0m \u001b[1;33m+=\u001b[0m \u001b[0mmath\u001b[0m\u001b[1;33m.\u001b[0m\u001b[0msqrt\u001b[0m\u001b[1;33m(\u001b[0m\u001b[1;36m0.5\u001b[0m\u001b[1;33m*\u001b[0m\u001b[1;33m(\u001b[0m\u001b[1;36m0.5\u001b[0m\u001b[1;33m-\u001b[0m\u001b[0mx\u001b[0m\u001b[1;33m)\u001b[0m\u001b[1;33m*\u001b[0m\u001b[1;33m(\u001b[0m\u001b[1;36m0.5\u001b[0m\u001b[1;33m-\u001b[0m\u001b[0my\u001b[0m\u001b[1;33m)\u001b[0m\u001b[1;33m*\u001b[0m\u001b[1;33m(\u001b[0m\u001b[1;36m0.5\u001b[0m\u001b[1;33m-\u001b[0m\u001b[0mz\u001b[0m\u001b[1;33m)\u001b[0m\u001b[1;33m)\u001b[0m\u001b[1;33m\u001b[0m\u001b[1;33m\u001b[0m\u001b[0m\n",
      "\u001b[1;31mKeyboardInterrupt\u001b[0m: "
     ]
    }
   ],
   "source": [
    "ta = 0\n",
    "c = 0\n",
    "for i in range(100000000):\n",
    "    a = random.random()\n",
    "    b = random.random()\n",
    "    b1 = b\n",
    "    if(b<a):\n",
    "        b = a\n",
    "        a = b1\n",
    "    x = a\n",
    "    y = b - a\n",
    "    z = 1 - b\n",
    "    if (x+y>z and x+z>y and y+z>x):\n",
    "        ta += math.sqrt(0.5*(0.5-x)*(0.5-y)*(0.5-z))\n",
    "        c += 1\n",
    "print(str(ta/c)+\" : \" + str(3.14159265/105))\n",
    "print(str(c/i)+\" : \" + str(0.25))"
   ]
  },
  {
   "cell_type": "code",
   "execution_count": 68,
   "metadata": {},
   "outputs": [
    {
     "name": "stdout",
     "output_type": "stream",
     "text": [
      "0.500299\n"
     ]
    }
   ],
   "source": [
    "ta = 0\n",
    "times = 1000000\n",
    "count = 0\n",
    "for i in range(times):\n",
    "    a = random.random()\n",
    "    b = random.random()\n",
    "    c = random.random()\n",
    "    l = sort([[a],[b],[c]])\n",
    "    a = l[0]\n",
    "    b = l[1]\n",
    "    c = l[2]\n",
    "    x = a\n",
    "    y = b - a\n",
    "    z = c - b\n",
    "    z1 = 1 - c\n",
    "    isAQuad = True\n",
    "    if(x+y+z<=z1):\n",
    "        isAQuad = False\n",
    "    if(z1+y+z<=x):\n",
    "        isAQuad = False\n",
    "    if(x+z1+z<=y):\n",
    "        isAQuad = False\n",
    "    if(x+y+z1<=z):\n",
    "        isAQuad = False\n",
    "    if(isAQuad):\n",
    "        count+=1\n",
    "print(count/times)"
   ]
  },
  {
   "cell_type": "code",
   "execution_count": 56,
   "metadata": {},
   "outputs": [
    {
     "data": {
      "text/plain": [
       "0.14583333333333334"
      ]
     },
     "execution_count": 56,
     "metadata": {},
     "output_type": "execute_result"
    }
   ],
   "source": [
    "7/48"
   ]
  },
  {
   "cell_type": "code",
   "execution_count": null,
   "metadata": {},
   "outputs": [],
   "source": []
  }
 ],
 "metadata": {
  "kernelspec": {
   "display_name": "Python 3",
   "language": "python",
   "name": "python3"
  },
  "language_info": {
   "codemirror_mode": {
    "name": "ipython",
    "version": 3
   },
   "file_extension": ".py",
   "mimetype": "text/x-python",
   "name": "python",
   "nbconvert_exporter": "python",
   "pygments_lexer": "ipython3",
   "version": "3.7.3"
  }
 },
 "nbformat": 4,
 "nbformat_minor": 2
}
