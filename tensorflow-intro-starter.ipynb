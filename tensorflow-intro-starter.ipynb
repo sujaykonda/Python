{
 "cells": [
  {
   "cell_type": "markdown",
   "metadata": {
    "collapsed": true
   },
   "source": [
    "Intro to Tensorflow\n",
    "---\n",
    "\n",
    "Import tensorflow and other needed libraries here:"
   ]
  },
  {
   "cell_type": "code",
   "execution_count": 30,
   "metadata": {},
   "outputs": [],
   "source": [
    "# TODO: Add imports.\n",
    "import tensorflow as tf\n",
    "import matplotlib.pyplot as plt \n",
    "import math\n",
    "%matplotlib inline"
   ]
  },
  {
   "cell_type": "markdown",
   "metadata": {},
   "source": [
    "Clear the Graph\n",
    "---\n",
    "Clear the default graph to reset everything back to default"
   ]
  },
  {
   "cell_type": "code",
   "execution_count": 31,
   "metadata": {},
   "outputs": [],
   "source": [
    "# TODO: Clear the tensorflow graph\n",
    "tf.reset_default_graph() "
   ]
  },
  {
   "cell_type": "markdown",
   "metadata": {},
   "source": [
    "Set up Placeholders\n",
    "---\n",
    "Placeholders are places you can feed data into your model. They indicate a value that you'll feed in later when the network is run."
   ]
  },
  {
   "cell_type": "code",
   "execution_count": 32,
   "metadata": {},
   "outputs": [],
   "source": [
    "# TODO: Create placeholders\n",
    "input_data = tf.placeholder(dtype=tf.float32, shape=[None,None])\n",
    "output_data = tf.placeholder(dtype=tf.float32, shape=None)"
   ]
  },
  {
   "cell_type": "markdown",
   "metadata": {},
   "source": [
    "Variables\n",
    "---\n",
    "Variables keep their value between runs. These are the building blocks of machine learning, and represent the parameters that will be tuned as your model trains"
   ]
  },
  {
   "cell_type": "code",
   "execution_count": 58,
   "metadata": {},
   "outputs": [],
   "source": [
    "# TODO: Create variables\n",
    "a = tf.Variable(aval, dtype = tf.float32) \n",
    "b = tf.Variable(bval, dtype = tf.float32)\n",
    "c = tf.Variable(cval, dtype = tf.float32)\n",
    "d = tf.Variable(dval, dtype = tf.float32)\n",
    "sa = tf.Variable(saval, dtype = tf.float32) \n",
    "sb = tf.Variable(sbval, dtype = tf.float32)\n",
    "sc = tf.Variable(scval, dtype = tf.float32)\n",
    "sd = tf.Variable(sdval, dtype = tf.float32)\n",
    "model_operation =  abs(a) * input_data[0]**sa + (abs(c) * input_data[1]**sb)/(abs(b) * input_data[2]**sc) - abs(d) * input_data[3]**sd  \n",
    "#model_operation = a * input_data + b\n",
    "error = model_operation - output_data \n",
    "squared_error = tf.square(error)\n",
    "loss = tf.reduce_mean(squared_error)\n",
    "optimizer = tf.train.GradientDescentOptimizer(learning_rate=0.000005) \n",
    "train = optimizer.minimize(loss) "
   ]
  },
  {
   "cell_type": "markdown",
   "metadata": {},
   "source": [
    "Running a Session\n",
    "---\n",
    "Once your graph is built, you can start a session. Putting the session in a `with` statement allows the session to automatically close once the statement finishes:\n",
    "```\n",
    "with tf.Session() as sess:\n",
    "    # Run the session in here\n",
    "    ...\n",
    "# Session closes when you get here\n",
    "```"
   ]
  },
  {
   "cell_type": "code",
   "execution_count": 64,
   "metadata": {
    "scrolled": false
   },
   "outputs": [
    {
     "name": "stdout",
     "output_type": "stream",
     "text": [
      "[2.0330524, 0.0141966585, 1.7685189, -1.1947092e-05, -0.66956264, 0.04298533, 0.4245066, 1.0]\n",
      "[2.0354366, 0.014200663, 1.770723, -1.1934143e-05, -0.67254287, 0.039394952, 0.42168316, 1.0]\n",
      "[2.0378208, 0.014204692, 1.7728091, -1.19212355e-05, -0.6755231, 0.035868324, 0.41890258, 1.0]\n",
      "[2.040205, 0.014208207, 1.7750309, -1.1900001e-05, -0.6784248, 0.03237235, 0.41615736, 1.0]\n",
      "[2.0425892, 0.014212152, 1.777415, -1.1886752e-05, -0.6813928, 0.02892227, 0.41346037, 1.0]\n",
      "[2.0449734, 0.014215937, 1.7797992, -1.1867823e-05, -0.684373, 0.025500068, 0.4107836, 1.0]\n",
      "[2.0473576, 0.014219998, 1.7819626, -1.1856623e-05, -0.68735325, 0.022132391, 0.4081377, 1.0]\n",
      "[2.0497417, 0.0142234955, 1.7840488, -1.1839807e-05, -0.6902232, 0.01880995, 0.405525, 1.0]\n",
      "[2.052126, 0.014227192, 1.786135, -1.1830469e-05, -0.69305444, 0.015518988, 0.402942, 1.0]\n",
      "[2.05451, 0.0142304925, 1.7883872, -1.18105745e-05, -0.69588566, 0.012268592, 0.40040013, 1.0]\n",
      "[2.0568943, 0.014234089, 1.7907714, -1.1797568e-05, -0.6987169, 0.009048233, 0.39789456, 1.0]\n",
      "[2.0592785, 0.014237414, 1.7929434, -1.1784578e-05, -0.70142746, 0.0058850925, 0.39542514, 1.0]\n",
      "[2.0616627, 0.014240439, 1.7950295, -1.1765933e-05, -0.70410967, 0.0027473925, 0.3929696, 1.0]\n",
      "[2.0645235, 0.014243178, 1.7971157, -1.1754279e-05, -0.7067919, -0.00034410998, 0.390563, 1.0]\n",
      "[2.0675037, 0.014245563, 1.7992018, -1.1736345e-05, -0.7094741, -0.003408108, 0.3881791, 1.0]\n",
      "[2.070484, 0.014247905, 1.8015642, -1.1721457e-05, -0.7120918, -0.0064355014, 0.38584784, 1.0]\n",
      "[2.0734642, 0.014249986, 1.803703, -1.1707539e-05, -0.714625, -0.009425994, 0.3835335, 1.0]\n",
      "[2.0764444, 0.014252223, 1.8057891, -1.16969e-05, -0.7171582, -0.0123845115, 0.38124222, 1.0]\n",
      "[2.0794246, 0.014254464, 1.8078753, -1.1681613e-05, -0.7196914, -0.015290843, 0.37899312, 1.0]\n",
      "[2.0824049, 0.014256653, 1.8099614, -1.1664265e-05, -0.72229344, -0.018173842, 0.37675825, 1.0]\n",
      "[2.085385, 0.014259081, 1.8120476, -1.1651274e-05, -0.72489655, -0.021017449, 0.3745566, 1.0]\n",
      "[2.0883653, 0.014261146, 1.8141817, -1.1633935e-05, -0.72742975, -0.02382337, 0.37239006, 1.0]\n",
      "[2.0913455, 0.014263373, 1.8162678, -1.1621944e-05, -0.72996294, -0.026604401, 0.37024122, 1.0]\n",
      "[2.0943258, 0.014265626, 1.818354, -1.1610432e-05, -0.73249614, -0.029338293, 0.3681308, 1.0]\n",
      "[2.097306, 0.014267584, 1.8204402, -1.1591053e-05, -0.73502934, -0.032041874, 0.3660422, 1.0]\n",
      "[2.1002862, 0.01426972, 1.8225263, -1.1581736e-05, -0.73748475, -0.03471955, 0.3639806, 1.0]\n",
      "[2.1032665, 0.0142716495, 1.824544, -1.1571144e-05, -0.73986894, -0.03735025, 0.3619545, 1.0]\n",
      "[2.105885, 0.014273705, 1.8265204, -1.15538505e-05, -0.7422531, -0.03995083, 0.35994068, 1.0]\n",
      "[2.1082692, 0.0142762875, 1.8286066, -1.1541855e-05, -0.7446373, -0.042525932, 0.35795254, 1.0]\n",
      "[2.1106534, 0.014278853, 1.8306928, -1.1531592e-05, -0.7470215, -0.045055304, 0.35600117, 1.0]\n",
      "[2.1130376, 0.014281081, 1.8327789, -1.1513157e-05, -0.7493725, -0.047565974, 0.35406393, 1.0]\n",
      "[2.1154218, 0.014283359, 1.8348651, -1.1503988e-05, -0.75160766, -0.050046686, 0.35215825, 1.0]\n",
      "[2.117806, 0.014285652, 1.8368181, -1.1495431e-05, -0.75384283, -0.052481253, 0.35028067, 1.0]\n",
      "[2.1201901, 0.014287707, 1.8386062, -1.1479907e-05, -0.756078, -0.054884207, 0.34841523, 1.0]\n",
      "[2.1225743, 0.014289893, 1.8406618, -1.1467453e-05, -0.7583132, -0.05727363, 0.34657988, 1.0]\n",
      "[2.1249585, 0.014292052, 1.8427479, -1.1454993e-05, -0.76054835, -0.05962277, 0.34477928, 1.0]\n",
      "[2.1273427, 0.01429384, 1.8448341, -1.1437124e-05, -0.76270187, -0.061957218, 0.34299195, 1.0]\n",
      "[2.129727, 0.014295771, 1.8469203, -1.14226905e-05, -0.76478803, -0.064263046, 0.34123275, 1.0]\n",
      "[2.132111, 0.014297816, 1.8488734, -1.1414887e-05, -0.7668742, -0.066525705, 0.33950013, 1.0]\n",
      "[2.1344953, 0.014299556, 1.8506615, -1.1404644e-05, -0.76896036, -0.06875347, 0.3377818, 1.0]\n",
      "[2.1368794, 0.01430128, 1.8524497, -1.1394331e-05, -0.7710465, -0.070969544, 0.33607274, 1.0]\n",
      "[2.1392636, 0.014303406, 1.8544548, -1.1384677e-05, -0.7732233, -0.07315113, 0.33440408, 1.0]\n",
      "[2.1416478, 0.014305348, 1.8565409, -1.13697e-05, -0.7754084, -0.07530536, 0.33276105, 1.0]\n",
      "[2.144032, 0.014307174, 1.8586271, -1.1357659e-05, -0.77749455, -0.07745175, 0.3311288, 1.0]\n",
      "[2.1464162, 0.014309125, 1.8606766, -1.1348883e-05, -0.7795807, -0.07955894, 0.32952666, 1.0]\n",
      "[2.1488004, 0.014311128, 1.8624648, -1.1342201e-05, -0.7816669, -0.081626706, 0.32793906, 1.0]\n",
      "[2.1511846, 0.014312864, 1.8642529, -1.133012e-05, -0.78375304, -0.08366619, 0.32637194, 1.0]\n",
      "[2.1535687, 0.014314663, 1.8660411, -1.1316803e-05, -0.7858392, -0.08569691, 0.32481244, 1.0]\n",
      "[2.155953, 0.014316581, 1.8678555, -1.130677e-05, -0.78792536, -0.08769207, 0.32328412, 1.0]\n",
      "[2.158337, 0.014317921, 1.8699417, -1.1289547e-05, -0.7898714, -0.089670196, 0.32179153, 1.0]\n",
      "[2.1607213, 0.014319496, 1.8720279, -1.1280003e-05, -0.79180855, -0.091638155, 0.320309, 1.0]\n",
      "[2.1631055, 0.014321082, 1.873932, -1.1271683e-05, -0.7937457, -0.09357124, 0.31884283, 1.0]\n",
      "[2.1654897, 0.0143227605, 1.8757201, -1.1266943e-05, -0.79568285, -0.09546638, 0.3173993, 1.0]\n",
      "[2.1678739, 0.014324286, 1.8775083, -1.1256211e-05, -0.79762, -0.09733153, 0.31597924, 1.0]\n",
      "[2.170258, 0.014325667, 1.8792964, -1.1242533e-05, -0.79955715, -0.099190876, 0.31456253, 1.0]\n",
      "[2.1726422, 0.014327287, 1.8810846, -1.1232778e-05, -0.8014943, -0.101025745, 0.3131671, 1.0]\n",
      "[2.1750264, 0.01432857, 1.8829563, -1.1220805e-05, -0.8033036, -0.102831766, 0.31180546, 1.0]\n",
      "[2.1774106, 0.014329575, 1.8850424, -1.1204111e-05, -0.80509174, -0.1046308, 0.31046268, 1.0]\n",
      "[2.1797948, 0.014330855, 1.886897, -1.1198089e-05, -0.8068799, -0.10640728, 0.3091244, 1.0]\n",
      "[2.182179, 0.014332197, 1.8886851, -1.1191054e-05, -0.808668, -0.10815255, 0.30780727, 1.0]\n",
      "[2.1845632, 0.014333499, 1.8904732, -1.1183468e-05, -0.81045616, -0.10986535, 0.30651584, 1.0]\n",
      "[2.1869473, 0.014334674, 1.8922614, -1.1172593e-05, -0.8122443, -0.11155036, 0.3052457, 1.0]\n",
      "[2.1893315, 0.01433575, 1.8940495, -1.1160814e-05, -0.81403244, -0.11323082, 0.30397847, 1.0]\n",
      "[2.1917157, 0.014337121, 1.8958377, -1.1153994e-05, -0.8158206, -0.11489132, 0.30272916, 1.0]\n",
      "[2.1941, 0.014337989, 1.8976569, -1.1142482e-05, -0.81747395, -0.1165228, 0.30150953, 1.0]\n",
      "[2.196484, 0.01433897, 1.8996327, -1.1135245e-05, -0.8191131, -0.118140474, 0.30031282, 1.0]\n",
      "[2.1988683, 0.014339839, 1.9014208, -1.1124118e-05, -0.8207522, -0.11973684, 0.29911962, 1.0]\n",
      "[2.2012525, 0.014340777, 1.903209, -1.1113021e-05, -0.82239133, -0.12132034, 0.2979371, 1.0]\n",
      "[2.2036366, 0.014341722, 1.9049971, -1.1105469e-05, -0.82403046, -0.12287416, 0.29677874, 1.0]\n",
      "[2.2060208, 0.014342786, 1.9067852, -1.1098804e-05, -0.8256696, -0.124398194, 0.29564482, 1.0]\n",
      "[2.208405, 0.014343657, 1.9085734, -1.1087185e-05, -0.8273087, -0.12590298, 0.2945248, 1.0]\n",
      "[2.2107892, 0.014344428, 1.9103615, -1.1075308e-05, -0.82894784, -0.12740512, 0.29340637, 1.0]\n",
      "[2.2131734, 0.014345478, 1.9121497, -1.1069739e-05, -0.83058697, -0.1288915, 0.29230258, 1.0]\n",
      "[2.2155576, 0.014346142, 1.9139286, -1.1060683e-05, -0.83209044, -0.1303425, 0.29123116, 1.0]\n",
      "[2.2179418, 0.014347145, 1.9157168, -1.1056083e-05, -0.8336924, -0.13177295, 0.2901737, 1.0]\n",
      "[2.220326, 0.014348015, 1.9175049, -1.1044211e-05, -0.8353314, -0.13318668, 0.2891266, 1.0]\n",
      "[2.2227101, 0.014348975, 1.919293, -1.1035539e-05, -0.8369705, -0.13459706, 0.2880826, 1.0]\n",
      "[2.2250943, 0.014349827, 1.9210812, -1.1023972e-05, -0.83860964, -0.1359954, 0.28704756, 1.0]\n",
      "[2.2274795, 0.0143508315, 1.9228693, -1.1015556e-05, -0.84024876, -0.13736065, 0.28603992, 1.0]\n",
      "[2.2304597, 0.014351329, 1.9246575, -1.1011126e-05, -0.8418879, -0.1387021, 0.28506258, 1.0]\n",
      "[2.23344, 0.01435163, 1.9264456, -1.100114e-05, -0.843527, -0.140034, 0.28409117, 1.0]\n",
      "[2.2364202, 0.014351954, 1.9279886, -1.0989819e-05, -0.84516615, -0.14134397, 0.28312138, 1.0]\n",
      "[2.2394004, 0.0143522415, 1.9296267, -1.0981898e-05, -0.8467917, -0.14264631, 0.28216434, 1.0]\n",
      "[2.2423806, 0.01435235, 1.9314148, -1.0988566e-05, -0.8482818, -0.14392827, 0.28123954, 1.0]\n",
      "[2.2453609, 0.01435247, 1.933203, -1.0996825e-05, -0.8497719, -0.14518996, 0.2803309, 1.0]\n",
      "[2.248341, 0.014352499, 1.9349911, -1.09813045e-05, -0.85126203, -0.14643814, 0.27943218, 1.0]\n",
      "[2.2513213, 0.014352442, 1.9367793, -1.0955935e-05, -0.85275215, -0.14768101, 0.2785372, 1.0]\n",
      "[2.2543015, 0.014352623, 1.9385674, -1.0938591e-05, -0.85424227, -0.14891453, 0.27765095, 1.0]\n"
     ]
    },
    {
     "name": "stdout",
     "output_type": "stream",
     "text": [
      "[2.2572818, 0.014352774, 1.9403555, -1.0927503e-05, -0.8557324, -0.15012123, 0.27678603, 1.0]\n",
      "[2.260262, 0.014352947, 1.9418693, -1.0920477e-05, -0.8572225, -0.1513065, 0.27592075, 1.0]\n",
      "[2.2632422, 0.014353112, 1.9433594, -1.0912757e-05, -0.8587126, -0.15246134, 0.2750782, 1.0]\n",
      "[2.2662225, 0.014353255, 1.9448495, -1.0903726e-05, -0.8602027, -0.1536048, 0.27424434, 1.0]\n",
      "[2.2692027, 0.014353274, 1.9466293, -1.0891952e-05, -0.86169285, -0.15475488, 0.2734228, 1.0]\n",
      "[2.272183, 0.014353217, 1.9484174, -1.08785625e-05, -0.86318296, -0.15590249, 0.27260336, 1.0]\n",
      "[2.2746487, 0.014353893, 1.9502056, -1.08739305e-05, -0.8646524, -0.15702198, 0.27180034, 1.0]\n",
      "[2.2770329, 0.014354344, 1.9519937, -1.08670065e-05, -0.8659935, -0.15811779, 0.27101988, 1.0]\n",
      "[2.279417, 0.014354727, 1.9537818, -1.0861758e-05, -0.8673346, -0.15918915, 0.2702585, 1.0]\n",
      "[2.2818012, 0.014355207, 1.9555466, -1.0855652e-05, -0.8686757, -0.16024674, 0.2695071, 1.0]\n",
      "[2.2841854, 0.014355703, 1.9570367, -1.0850945e-05, -0.8700168, -0.1612814, 0.26875633, 1.0]\n",
      "[2.2865696, 0.01435606, 1.9585268, -1.0844125e-05, -0.8713579, -0.16230983, 0.26800975, 1.0]\n",
      "1.0142477\n"
     ]
    },
    {
     "data": {
      "image/png": "[encoded data removed]",
      "text/plain": [
       "<Figure size 432x288 with 1 Axes>"
      ]
     },
     "metadata": {
      "needs_background": "light"
     },
     "output_type": "display_data"
    }
   ],
   "source": [
    "# TODO: Run a session\n",
    "# TODO: Run a session\n",
    "\n",
    "init = tf.global_variables_initializer()\n",
    "\n",
    "x_values = [[4,3,3,3,2],[785,500,520,700,484],[3200,2650,2500,3379,2075],[0,6,6,7,2]]\n",
    "y_values = [5,6,8,7,9]\n",
    "\n",
    "with tf.Session() as sess:\n",
    "    sess.run(init)\n",
    "    for i in range(500000):\n",
    "        sess.run(train, feed_dict={input_data:x_values, output_data:y_values})\n",
    "        if i % 5000 == 0:\n",
    "            print(sess.run([a, b, c, d, sa, sb, sc, sd]))\n",
    "            #plt.plot(x_values, sess.run(model_operation, feed_dict={input_data:x_values}))\n",
    "    \n",
    "    print(sess.run(loss, feed_dict={input_data:x_values, output_data:y_values}))\n",
    "    aval = a.eval()\n",
    "    bval = b.eval()\n",
    "    cval = c.eval()\n",
    "    dval = d.eval()\n",
    "    saval = sa.eval()\n",
    "    sbval = sb.eval()\n",
    "    scval = sc.eval()\n",
    "    sdval = sd.eval()\n",
    "    #print(a,b,c,d,e,f)\n",
    "    plt.plot(y_values, y_values, 'ro', 'Training Data')\n",
    "    plt.plot(y_values, sess.run(model_operation, feed_dict={input_data:x_values}), \"ro\")\n",
    "    \n",
    "    #plt.show()"
   ]
  },
  {
   "cell_type": "markdown",
   "metadata": {},
   "source": [
    "Neurons and Neural Networks\n",
    "--------------------------------------------\n",
    "Tensorflow provides functions to easily create layers of neurons for a neural network."
   ]
  },
  {
   "cell_type": "code",
   "execution_count": 60,
   "metadata": {},
   "outputs": [
    {
     "name": "stdout",
     "output_type": "stream",
     "text": [
      "2.2889543 0.013214208 1.9600247 -7.152788e-06\n"
     ]
    }
   ],
   "source": [
    "print(aval, bval, cval,  dval)"
   ]
  },
  {
   "cell_type": "code",
   "execution_count": 61,
   "metadata": {},
   "outputs": [
    {
     "name": "stdout",
     "output_type": "stream",
     "text": [
      "-0.87269634 -0.16323647 0.26713967 1.0\n"
     ]
    }
   ],
   "source": [
    "print(saval, sbval, scval, sdval)"
   ]
  },
  {
   "cell_type": "code",
   "execution_count": null,
   "metadata": {},
   "outputs": [],
   "source": []
  },
  {
   "cell_type": "code",
   "execution_count": null,
   "metadata": {},
   "outputs": [],
   "source": []
  }
 ],
 "metadata": {
  "kernelspec": {
   "display_name": "Python 3",
   "language": "python",
   "name": "python3"
  },
  "language_info": {
   "codemirror_mode": {
    "name": "ipython",
    "version": 3
   },
   "file_extension": ".py",
   "mimetype": "text/x-python",
   "name": "python",
   "nbconvert_exporter": "python",
   "pygments_lexer": "ipython3",
   "version": "3.7.3"
  }
 },
 "nbformat": 4,
 "nbformat_minor": 1
}
