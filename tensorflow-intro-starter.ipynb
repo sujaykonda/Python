{
 "cells": [
  {
   "cell_type": "markdown",
   "metadata": {
    "collapsed": true
   },
   "source": [
    "Intro to Tensorflow\n",
    "---\n",
    "\n",
    "Import tensorflow and other needed libraries here:"
   ]
  },
  {
   "cell_type": "code",
   "execution_count": 1,
   "metadata": {},
   "outputs": [],
   "source": [
    "# TODO: Add imports.\n",
    "import tensorflow as tf\n",
    "import matplotlib.pyplot as plt \n",
    "%matplotlib inline"
   ]
  },
  {
   "cell_type": "markdown",
   "metadata": {},
   "source": [
    "Clear the Graph\n",
    "---\n",
    "Clear the default graph to reset everything back to default"
   ]
  },
  {
   "cell_type": "code",
   "execution_count": 2,
   "metadata": {},
   "outputs": [],
   "source": [
    "# TODO: Clear the tensorflow graph\n",
    "tf.reset_default_graph() "
   ]
  },
  {
   "cell_type": "markdown",
   "metadata": {},
   "source": [
    "Set up Placeholders\n",
    "---\n",
    "Placeholders are places you can feed data into your model. They indicate a value that you'll feed in later when the network is run."
   ]
  },
  {
   "cell_type": "code",
   "execution_count": 3,
   "metadata": {},
   "outputs": [],
   "source": [
    "# TODO: Create placeholders\n",
    "input_data = tf.placeholder(dtype=tf.float32, shape=None)\n",
    "output_data = tf.placeholder(dtype=tf.float32, shape=None)"
   ]
  },
  {
   "cell_type": "markdown",
   "metadata": {},
   "source": [
    "Variables\n",
    "---\n",
    "Variables keep their value between runs. These are the building blocks of machine learning, and represent the parameters that will be tuned as your model trains"
   ]
  },
  {
   "cell_type": "code",
   "execution_count": 4,
   "metadata": {},
   "outputs": [
    {
     "name": "stdout",
     "output_type": "stream",
     "text": [
      "WARNING:tensorflow:From C:\\ProgramData\\Anaconda3\\envs\\tensorflow\\lib\\site-packages\\tensorflow\\python\\framework\\op_def_library.py:263: colocate_with (from tensorflow.python.framework.ops) is deprecated and will be removed in a future version.\n",
      "Instructions for updating:\n",
      "Colocations handled automatically by placer.\n",
      "WARNING:tensorflow:From C:\\ProgramData\\Anaconda3\\envs\\tensorflow\\lib\\site-packages\\tensorflow\\python\\ops\\math_ops.py:3066: to_int32 (from tensorflow.python.ops.math_ops) is deprecated and will be removed in a future version.\n",
      "Instructions for updating:\n",
      "Use tf.cast instead.\n"
     ]
    }
   ],
   "source": [
    "# TODO: Create variables\n",
    "a = tf.Variable(1, dtype=tf.float32) \n",
    "b = tf.Variable(1, dtype=tf.float32)\n",
    "c = tf.Variable(1, dtype = tf.float32)\n",
    "d = tf.Variable(1, dtype=tf.float32) \n",
    "e = tf.Variable(1, dtype=tf.float32)\n",
    "f = tf.Variable(1, dtype = tf.float32)\n",
    "model_operation = a/100000 * input_data**5 + b/10000 * input_data**4 + c/1000 * input_data**3 + d/100 * input_data**2 + e/10*input_data + f \n",
    "error = model_operation - output_data \n",
    "squared_error = tf.square(error)\n",
    "loss = tf.reduce_mean(squared_error)\n",
    "optimizer = tf.train.GradientDescentOptimizer(learning_rate=0.0005) \n",
    "train = optimizer.minimize(loss) "
   ]
  },
  {
   "cell_type": "markdown",
   "metadata": {},
   "source": [
    "Running a Session\n",
    "---\n",
    "Once your graph is built, you can start a session. Putting the session in a `with` statement allows the session to automatically close once the statement finishes:\n",
    "```\n",
    "with tf.Session() as sess:\n",
    "    # Run the session in here\n",
    "    ...\n",
    "# Session closes when you get here\n",
    "```"
   ]
  },
  {
   "cell_type": "code",
   "execution_count": null,
   "metadata": {},
   "outputs": [],
   "source": [
    "# TODO: Run a session\n",
    "# TODO: Run a session\n",
    "\n",
    "init = tf.global_variables_initializer()\n",
    "\n",
    "x_values = [15.34219911, 13.98609674, 14.15554791, 14.58904306, 14.69428575, 15.69355459]\n",
    "y_values = [1, 4, 9, 16, 25, 36]\n",
    "\n",
    "with tf.Session() as sess:\n",
    "    sess.run(init)\n",
    "    for i in range(200000):\n",
    "        sess.run(train, feed_dict={input_data:x_values, output_data:y_values})\n",
    "        if i % 100 == 0:\n",
    "            #print(sess.run([a, b, c, d, e]))\n",
    "            plt.plot(x_values, sess.run(model_operation, feed_dict={input_data:x_values}))\n",
    "    \n",
    "    print(sess.run(loss, feed_dict={input_data:x_values, output_data:y_values}))\n",
    "    #print(a,b,c,d,e,f)\n",
    "    plt.plot(x_values, y_values, 'ro', 'Training Data')\n",
    "    plt.plot(x_values, sess.run(model_operation, feed_dict={input_data:x_values}))\n",
    "    \n",
    "    plt.show()"
   ]
  },
  {
   "cell_type": "markdown",
   "metadata": {},
   "source": [
    "Neurons and Neural Networks\n",
    "---\n",
    "Tensorflow provides functions to easily create layers of neurons for a neural network."
   ]
  },
  {
   "cell_type": "code",
   "execution_count": null,
   "metadata": {},
   "outputs": [],
   "source": []
  }
 ],
 "metadata": {
  "kernelspec": {
   "display_name": "Python 3",
   "language": "python",
   "name": "python3"
  },
  "language_info": {
   "codemirror_mode": {
    "name": "ipython",
    "version": 3
   },
   "file_extension": ".py",
   "mimetype": "text/x-python",
   "name": "python",
   "nbconvert_exporter": "python",
   "pygments_lexer": "ipython3",
   "version": "3.7.3"
  }
 },
 "nbformat": 4,
 "nbformat_minor": 1
}
