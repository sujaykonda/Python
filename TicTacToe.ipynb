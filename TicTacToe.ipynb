{
 "cells": [
  {
   "cell_type": "code",
   "execution_count": 25,
   "metadata": {},
   "outputs": [],
   "source": [
    "import random\n",
    "\n",
    "def initialboard():\n",
    "    return \".........\"\n",
    "\n",
    "def show(b):\n",
    "    print(\"\")\n",
    "    print(\"  0 | 1 | 2\")\n",
    "    print(0, b[0],\"|\",b[1],\"|\",b[2])\n",
    "    print(\"------------\")\n",
    "    print(1, b[3],\"|\",b[4],\"|\",b[5])\n",
    "    print(\"------------\")\n",
    "    print(2, b[6],\"|\",b[7],\"|\",b[8])\n",
    "    return\n",
    "\n",
    "def gameended(b):\n",
    "    wins = [[0,1,2],[3,4,5],[6,7,8],[0,3,6],[1,4,7],[2,5,8],[0,4,8],[2,4,6]]\n",
    "    won  = []\n",
    "    for pos in wins:\n",
    "        if(b[pos[0]]!=\".\" and b[pos[0]]==b[pos[1]] and b[pos[1]]==b[pos[2]]):\n",
    "            won.append(b[pos[0]])\n",
    "    return set(won)\n",
    "\n",
    "def play():\n",
    "    print( \"Computer:o You:x\")\n",
    "    board = initialboard()\n",
    "    turn  = 0\n",
    "    while len(gameended(board))==0:\n",
    "        if(turn==0):\n",
    "            show(board)\n",
    "            x,y  = input(\"\\nenter your next position :\").split()\n",
    "            char = \"x\"\n",
    "        else:\n",
    "            x = random.randint(0,2)\n",
    "            y = random.randint(0,2)\n",
    "            char = 'o'\n",
    "        idx = int(x)* 3 + int(y)\n",
    "        if(board[idx]==\".\"):\n",
    "            board      = list(board)\n",
    "            board[idx] = char\n",
    "            board      = ''.join(board)\n",
    "            turn       = 1 - turn\n",
    "        if(board[idx]==\".\" and turn==0):\n",
    "            print(\"illegal position. try again\")\n",
    "    show(board)\n",
    "    if(\"x\" in gameended(board)):\n",
    "        print(\"\\nHurray.. you won!\")\n",
    "    else:\n",
    "        print(\"\\nSorry you lost\")\n",
    "    \n",
    "    return"
   ]
  },
  {
   "cell_type": "code",
   "execution_count": 26,
   "metadata": {},
   "outputs": [
    {
     "name": "stdout",
     "output_type": "stream",
     "text": [
      "Computer:o You:x\n",
      "\n",
      "  0 | 1 | 2\n",
      "0 . | . | .\n",
      "------------\n",
      "1 . | . | .\n",
      "------------\n",
      "2 . | . | .\n",
      "\n",
      "enter your next position :1 1\n",
      "\n",
      "  0 | 1 | 2\n",
      "0 . | . | .\n",
      "------------\n",
      "1 . | x | .\n",
      "------------\n",
      "2 . | o | .\n",
      "\n",
      "enter your next position :0 2\n",
      "\n",
      "  0 | 1 | 2\n",
      "0 o | . | x\n",
      "------------\n",
      "1 . | x | .\n",
      "------------\n",
      "2 . | o | .\n",
      "\n",
      "enter your next position :2 0\n",
      "\n",
      "  0 | 1 | 2\n",
      "0 o | . | x\n",
      "------------\n",
      "1 . | x | .\n",
      "------------\n",
      "2 x | o | .\n",
      "\n",
      "Hurray.. you won!\n"
     ]
    }
   ],
   "source": [
    "play()"
   ]
  },
  {
   "cell_type": "code",
   "execution_count": null,
   "metadata": {},
   "outputs": [],
   "source": [
    "show(board)"
   ]
  },
  {
   "cell_type": "code",
   "execution_count": null,
   "metadata": {},
   "outputs": [],
   "source": [
    "a = list(\"abcd\")"
   ]
  },
  {
   "cell_type": "raw",
   "metadata": {},
   "source": []
  },
  {
   "cell_type": "code",
   "execution_count": null,
   "metadata": {},
   "outputs": [],
   "source": [
    "a"
   ]
  },
  {
   "cell_type": "code",
   "execution_count": null,
   "metadata": {},
   "outputs": [],
   "source": [
    "''.join(a)"
   ]
  },
  {
   "cell_type": "code",
   "execution_count": 14,
   "metadata": {},
   "outputs": [
    {
     "data": {
      "text/plain": [
       "2"
      ]
     },
     "execution_count": 14,
     "metadata": {},
     "output_type": "execute_result"
    }
   ],
   "source": [
    "random.randint(0,3)"
   ]
  },
  {
   "cell_type": "code",
   "execution_count": null,
   "metadata": {},
   "outputs": [],
   "source": []
  }
 ],
 "metadata": {
  "kernelspec": {
   "display_name": "Python 3",
   "language": "python",
   "name": "python3"
  },
  "language_info": {
   "codemirror_mode": {
    "name": "ipython",
    "version": 3
   },
   "file_extension": ".py",
   "mimetype": "text/x-python",
   "name": "python",
   "nbconvert_exporter": "python",
   "pygments_lexer": "ipython3",
   "version": "3.7.3"
  }
 },
 "nbformat": 4,
 "nbformat_minor": 2
}
